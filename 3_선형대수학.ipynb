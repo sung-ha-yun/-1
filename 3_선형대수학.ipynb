{
  "cells": [
    {
      "cell_type": "code",
      "execution_count": 1,
      "metadata": {
        "id": "sBo9qFry8d4w",
        "outputId": "26213171-49c1-4393-dd63-41fccf392abd",
        "colab": {
          "base_uri": "https://localhost:8080/"
        }
      },
      "outputs": [
        {
          "output_type": "stream",
          "name": "stdout",
          "text": [
            "[1 2 3]\n"
          ]
        }
      ],
      "source": [
        "# Part 3 선형대수학\n",
        "# 10장 벡터와 공간\n",
        "# 10.1 벡터\n",
        "# 10.1.2 벡터란\n",
        "# 벡터란\n",
        "\n",
        "# Numpy 라이브러리 호출\n",
        "import numpy as np\n",
        "x = np.array([1, 2, 3]) # 크기가 (3, )인 1차원 배열의 표현\n",
        "print(x) #콤마가 없는 것은 배열이라고 하는 것 안에 들어가있는 것으로 인식ㅐ서 그런것임"
      ]
    },
    {
      "cell_type": "code",
      "execution_count": null,
      "metadata": {
        "id": "U3SG3VK_8d40",
        "outputId": "ab3379e9-377a-4217-806f-82b1eaf3c0d4"
      },
      "outputs": [
        {
          "name": "stdout",
          "output_type": "stream",
          "text": [
            "[[1 2 3]]\n"
          ]
        }
      ],
      "source": [
        "u = np.array([[1, 2, 3]])  # 크기가 (1, 3)인 2차원 배열의 표현(행 벡터)\n",
        "print(u) #괄호가 하나 더 있는 것은 차원이 하나 더 높다는 것임"
      ]
    },
    {
      "cell_type": "code",
      "execution_count": 2,
      "metadata": {
        "colab": {
          "base_uri": "https://localhost:8080/"
        },
        "id": "rF6bFHPS8d41",
        "outputId": "0fcb1cf1-5285-438f-b53a-cf5eaf6d8312"
      },
      "outputs": [
        {
          "output_type": "stream",
          "name": "stdout",
          "text": [
            "[[1]\n",
            " [2]\n",
            " [3]]\n"
          ]
        }
      ],
      "source": [
        "v = np.array([[1], [2], [3]]) # 크기가 (3, 1)인 2차원 배열의 표현(열 벡터)\n",
        "print(v) #괄호를 따로따로 숫자를 만나기전의 괄호 개수가 몇 차원인지 알려줌. 이건 이차원 행이 한개이고 열이 3개인 열 벡터"
      ]
    },
    {
      "cell_type": "code",
      "execution_count": 4,
      "metadata": {
        "outputId": "94099172-aa65-47b2-ea62-74d000e46278",
        "colab": {
          "base_uri": "https://localhost:8080/"
        },
        "id": "XDVUzIkb9t5j"
      },
      "outputs": [
        {
          "output_type": "stream",
          "name": "stdout",
          "text": [
            "[[1 1]\n",
            " [2 2]\n",
            " [3 3]]\n"
          ]
        }
      ],
      "source": [
        "v1 = np.array([[1,1], [2,2], [3,3]]) # 크기가 (3, 1)인 2차원 배열의 표현(열 벡터)\n",
        "print(v1) #괄호를 따로따로 숫자를 만나기전의 괄호 개수가 몇 차원인지 알려줌. 이건 이차원 행이 한개이고 열이 3개인 열 벡터\n",
        "# if ([1,1], [2,2], [3,3]))이렇게 하면 오류가 나옴. 왜냐하면 하나로 묶어줄 배열이 없음"
      ]
    },
    {
      "cell_type": "markdown",
      "source": [
        "배열 이름\t크기(shape)\t설명\t출력 형태\n",
        "\n",
        "1.   x\t(3,  )\t1차원 배열\t                  [1 2 3]\n",
        "2.   u\t(1, 3)\t2차원 행 벡터 (1행 3열)\t[[1 2 3]]\n",
        "3.   v\t(3, 1)\t2차원 열 벡터 (3행 1열)\t[[1] [2] [3]]"
      ],
      "metadata": {
        "id": "xBWN8Cv2-qNO"
      }
    },
    {
      "cell_type": "code",
      "source": [
        "a = np.array([[[1,1,1], [2,2,4], [3,3,9]],[[1,1,1], [2,2,4], [3,3,9]],[[1,1,1], [2,2,4], [3,3,9]]])\n",
        "print(a)"
      ],
      "metadata": {
        "id": "PYHv_NQq_W4O",
        "outputId": "85f77feb-af20-470f-a7c9-ba0f4a840d85",
        "colab": {
          "base_uri": "https://localhost:8080/"
        }
      },
      "execution_count": 14,
      "outputs": [
        {
          "output_type": "stream",
          "name": "stdout",
          "text": [
            "[[[1 1 1]\n",
            "  [2 2 4]\n",
            "  [3 3 9]]\n",
            "\n",
            " [[1 1 1]\n",
            "  [2 2 4]\n",
            "  [3 3 9]]\n",
            "\n",
            " [[1 1 1]\n",
            "  [2 2 4]\n",
            "  [3 3 9]]]\n"
          ]
        }
      ]
    },
    {
      "cell_type": "code",
      "execution_count": 15,
      "metadata": {
        "id": "KlVwv48r8d42",
        "outputId": "280ded27-e938-4950-d230-d936f57b28d7",
        "colab": {
          "base_uri": "https://localhost:8080/"
        }
      },
      "outputs": [
        {
          "output_type": "execute_result",
          "data": {
            "text/plain": [
              "{1: 0.3333333333333333, 2: 0.6666666666666666, 3: 0.0}"
            ]
          },
          "metadata": {},
          "execution_count": 15
        }
      ],
      "source": [
        "# 벡터의 표현(확률분포를 벡터로 표현)\n",
        "{1: 1/3, 2: 2/3, 3: 0/3}"
      ]
    },
    {
      "cell_type": "code",
      "execution_count": 16,
      "metadata": {
        "id": "4MQ32-6d8d42",
        "outputId": "fd2ffd96-225d-4b5b-f2f2-9f65dc09708a",
        "colab": {
          "base_uri": "https://localhost:8080/"
        }
      },
      "outputs": [
        {
          "output_type": "stream",
          "name": "stdout",
          "text": [
            "[0.53452248 0.80178373 0.26726124]\n"
          ]
        }
      ],
      "source": [
        "# 10.1.3 특수한 벡터\n",
        "# 벡터란\n",
        "# 단위벡터\n",
        "\n",
        "import numpy as np\n",
        "from scipy import linalg\n",
        "\n",
        "# 단위 벡터를 위해 두가지 방법을 사용할 수 있다.\n",
        "# NumPy의 서브 패키지인 linalg에서 제공하는 함수 norm()을 사용하여\n",
        "# 벡터의 크기를 계산한 후 기존 벡터로 나눠준다.\n",
        "\n",
        "s=np.array([2,3,1])\n",
        "v_hat01 = s / linalg.norm(s)\n",
        "print(v_hat01)"
      ]
    },
    {
      "cell_type": "code",
      "execution_count": null,
      "metadata": {
        "id": "Ga9ohtrV8d43",
        "outputId": "188b66c9-5818-4ab7-cc46-9e6d07f79abd"
      },
      "outputs": [
        {
          "name": "stdout",
          "output_type": "stream",
          "text": [
            "[ 0.31622777 -0.9486833 ]\n"
          ]
        }
      ],
      "source": [
        "# 파이썬 문제풀이(1)\n",
        "\n",
        "import numpy as np\n",
        "x=np.array([1, -3])\n",
        "v_hat = x / linalg.norm(x)\n",
        "print(v_hat)"
      ]
    },
    {
      "cell_type": "code",
      "execution_count": null,
      "metadata": {
        "id": "KnuxdUdn8d43",
        "outputId": "b0dfae74-3e04-47e4-ec0c-793bfc4798e0"
      },
      "outputs": [
        {
          "data": {
            "text/plain": [
              "array([-0.6, -0.8])"
            ]
          },
          "execution_count": 7,
          "metadata": {},
          "output_type": "execute_result"
        }
      ],
      "source": [
        "# 파이썬 문제풀이(2)\n",
        "\n",
        "import numpy as np\n",
        "x=np.array([-6,-8])\n",
        "v_hat2 = x / (x**2).sum()**0.5\n",
        "v_hat2"
      ]
    },
    {
      "cell_type": "code",
      "execution_count": null,
      "metadata": {
        "id": "gyuyonps8d44",
        "outputId": "de171d8d-ec6f-4d25-c021-65399115f1f3"
      },
      "outputs": [
        {
          "name": "stdout",
          "output_type": "stream",
          "text": [
            "[-0.78086881 -0.62469505]\n"
          ]
        }
      ],
      "source": [
        "# 파이썬 문제풀이(3)\n",
        "import numpy as np\n",
        "x=np.array([-5, -4])\n",
        "v_hat = x / linalg.norm(x)\n",
        "print (v_hat)"
      ]
    },
    {
      "cell_type": "code",
      "execution_count": null,
      "metadata": {
        "id": "aPOHqhkv8d44",
        "outputId": "3413c40e-23e9-435d-852d-9dbb72ae828e"
      },
      "outputs": [
        {
          "data": {
            "text/plain": [
              "array([0., 0., 0., 0., 0.])"
            ]
          },
          "execution_count": 9,
          "metadata": {},
          "output_type": "execute_result"
        }
      ],
      "source": [
        "# 영벡터\n",
        "\n",
        "import numpy as np\n",
        "np.zeros(5)"
      ]
    },
    {
      "cell_type": "code",
      "execution_count": null,
      "metadata": {
        "id": "94kzEpnY8d45",
        "outputId": "43ebc4d2-d0ce-4af8-88c1-027ade024ed9"
      },
      "outputs": [
        {
          "data": {
            "text/plain": [
              "(5,)"
            ]
          },
          "execution_count": 10,
          "metadata": {},
          "output_type": "execute_result"
        }
      ],
      "source": [
        "np.zeros(5).shape"
      ]
    },
    {
      "cell_type": "code",
      "execution_count": null,
      "metadata": {
        "id": "qZVW__MQ8d45",
        "outputId": "2fcf60e8-ac56-446e-d028-9b4486644f94"
      },
      "outputs": [
        {
          "data": {
            "text/plain": [
              "array([[0., 0.],\n",
              "       [0., 0.]])"
            ]
          },
          "execution_count": 11,
          "metadata": {},
          "output_type": "execute_result"
        }
      ],
      "source": [
        "s = (2,2)\n",
        "np.zeros(s)"
      ]
    },
    {
      "cell_type": "code",
      "execution_count": null,
      "metadata": {
        "id": "RTO-mtAJ8d46",
        "outputId": "2936091c-b881-44e8-e41c-75f1d1334581"
      },
      "outputs": [
        {
          "name": "stdout",
          "output_type": "stream",
          "text": [
            "[ 5 -2]\n"
          ]
        }
      ],
      "source": [
        "# 10.2 선형 결합과 선형 독립\n",
        "# 10.2.1 선형 결합(linear combination)과 생성(span)\n",
        "\n",
        "import numpy as np\n",
        "a = np.array([2,4])\n",
        "b = np.array([1,6])\n",
        "c=(4*a)+((-3)*b)\n",
        "print(c)"
      ]
    },
    {
      "cell_type": "code",
      "execution_count": null,
      "metadata": {
        "id": "y0rUTHfE8d46",
        "outputId": "89a1b8b1-2eae-4637-f9d0-e9fc741288bb"
      },
      "outputs": [
        {
          "data": {
            "text/plain": [
              "2"
            ]
          },
          "execution_count": 13,
          "metadata": {},
          "output_type": "execute_result"
        }
      ],
      "source": [
        "# 10.2.3 부분공간과 부분공간의 기저\n",
        "# 랭크(rank)\n",
        "\n",
        "import numpy as np\n",
        "X1 = np.array([[2, 7], [5, 1]])\n",
        "np.linalg.matrix_rank(X1)"
      ]
    },
    {
      "cell_type": "code",
      "execution_count": null,
      "metadata": {
        "id": "P1aKbveU8d47",
        "outputId": "d7edf724-59e8-4442-ca45-2b5e1c3a3f09"
      },
      "outputs": [
        {
          "data": {
            "text/plain": [
              "1"
            ]
          },
          "execution_count": 14,
          "metadata": {},
          "output_type": "execute_result"
        }
      ],
      "source": [
        "X1 = np.array([[2, 4], [3, 6]])\n",
        "np.linalg.matrix_rank(X1)"
      ]
    },
    {
      "cell_type": "code",
      "execution_count": null,
      "metadata": {
        "id": "gEQRUrum8d47",
        "outputId": "e25c14fe-47ff-4c3d-bb32-d53f0daa0862"
      },
      "outputs": [
        {
          "data": {
            "text/plain": [
              "2"
            ]
          },
          "execution_count": 15,
          "metadata": {},
          "output_type": "execute_result"
        }
      ],
      "source": [
        "# 파이썬 문제풀이(1)\n",
        "\n",
        "import numpy as np\n",
        "X1 = np.array([[1, 2], [3, 5]])\n",
        "np.linalg.matrix_rank(X1)"
      ]
    },
    {
      "cell_type": "code",
      "execution_count": null,
      "metadata": {
        "id": "6GtfFwoX8d47",
        "outputId": "2e626768-1ea0-4764-d60c-66ce3b2540cd"
      },
      "outputs": [
        {
          "data": {
            "text/plain": [
              "1"
            ]
          },
          "execution_count": 16,
          "metadata": {},
          "output_type": "execute_result"
        }
      ],
      "source": [
        "# 파이썬 문제풀이(2)\n",
        "\n",
        "import numpy as np\n",
        "X1 = np.array([[1, 2], [3, 6]])\n",
        "np.linalg.matrix_rank(X1)"
      ]
    },
    {
      "cell_type": "code",
      "execution_count": null,
      "metadata": {
        "id": "DPD4uVeL8d47",
        "outputId": "d983f655-1d6c-4152-eda5-399c81101398"
      },
      "outputs": [
        {
          "name": "stdout",
          "output_type": "stream",
          "text": [
            "[5, 4]\n"
          ]
        }
      ],
      "source": [
        "# 10.3 벡터의 내적과 외적\n",
        "# 10.3.1 벡터의 덧셈과 뺄셈\n",
        "# 벡터의 덧셈\n",
        "\n",
        "x=[2,3]\n",
        "y=[3,1]\n",
        "z=[i+j for i, j in zip(x,y)]\n",
        "print(z)"
      ]
    },
    {
      "cell_type": "code",
      "execution_count": null,
      "metadata": {
        "id": "poGFO9R58d48",
        "outputId": "e23aad3b-6907-4494-a536-d449997fea69"
      },
      "outputs": [
        {
          "data": {
            "text/plain": [
              "[(1, 4), (2, 5), (3, 6)]"
            ]
          },
          "execution_count": 18,
          "metadata": {},
          "output_type": "execute_result"
        }
      ],
      "source": [
        "# 노트\n",
        "\n",
        "list(zip([1, 2, 3], [4, 5, 6]))"
      ]
    },
    {
      "cell_type": "code",
      "execution_count": null,
      "metadata": {
        "id": "BAF7zzNv8d48",
        "outputId": "1561cd70-50a7-4316-9c0b-3ae171d8e8e4"
      },
      "outputs": [
        {
          "data": {
            "text/plain": [
              "[(1, 4, 7), (2, 5, 8), (3, 6, 9)]"
            ]
          },
          "execution_count": 19,
          "metadata": {},
          "output_type": "execute_result"
        }
      ],
      "source": [
        "list(zip([1, 2, 3], [4, 5, 6], [7, 8, 9]))"
      ]
    },
    {
      "cell_type": "code",
      "execution_count": null,
      "metadata": {
        "id": "9CGRpPPU8d48",
        "outputId": "cf40244c-1cd2-4b81-ff0f-69c5500ce67d"
      },
      "outputs": [
        {
          "name": "stdout",
          "output_type": "stream",
          "text": [
            "[5 4]\n"
          ]
        }
      ],
      "source": [
        "# NumPy 라이브러리 이용한 간단한 코드\n",
        "\n",
        "import numpy as np\n",
        "u = np.array(x)\n",
        "v = np.array(y)\n",
        "w=u+v\n",
        "print(w)"
      ]
    },
    {
      "cell_type": "code",
      "execution_count": null,
      "metadata": {
        "id": "0UhOIKFL8d48",
        "outputId": "07138ecd-a57f-4534-a93d-d49a8f899838"
      },
      "outputs": [
        {
          "name": "stdout",
          "output_type": "stream",
          "text": [
            "[-6 13]\n"
          ]
        }
      ],
      "source": [
        "# 파이썬 문제풀이(1)\n",
        "\n",
        "import numpy as np\n",
        "x=[-4,5]\n",
        "y=[-2,8]\n",
        "u = np.array(x)\n",
        "v = np.array(y)\n",
        "w=u+v\n",
        "print(w)"
      ]
    },
    {
      "cell_type": "code",
      "execution_count": null,
      "metadata": {
        "id": "tSQvKvRN8d48",
        "outputId": "3897b1e8-45fd-4b04-c910-f37b701d9970"
      },
      "outputs": [
        {
          "name": "stdout",
          "output_type": "stream",
          "text": [
            "[15 -1]\n"
          ]
        }
      ],
      "source": [
        "# 파이썬 문제풀이(2)\n",
        "\n",
        "import numpy as np\n",
        "x=[11,2]\n",
        "y=[4,-3]\n",
        "u = np.array(x)\n",
        "v = np.array(y)\n",
        "w=u+v\n",
        "print(w)"
      ]
    },
    {
      "cell_type": "code",
      "execution_count": null,
      "metadata": {
        "id": "KpK7z6tP8d48",
        "outputId": "ff1b0f62-0562-4200-8402-8721ce28ba9a"
      },
      "outputs": [
        {
          "name": "stdout",
          "output_type": "stream",
          "text": [
            "[-38  19]\n"
          ]
        }
      ],
      "source": [
        "# 파이썬 문제풀이(3)\n",
        "\n",
        "import numpy as np\n",
        "x=[-13,53]\n",
        "y=[-25,-34]\n",
        "u = np.array(x)\n",
        "v = np.array(y)\n",
        "w=u+v\n",
        "print(w)"
      ]
    },
    {
      "cell_type": "code",
      "execution_count": null,
      "metadata": {
        "id": "UZkQospU8d49",
        "outputId": "5070f4b0-a9d8-45c0-fc1e-94b6825a0fec"
      },
      "outputs": [
        {
          "name": "stdout",
          "output_type": "stream",
          "text": [
            "[-1, 2]\n"
          ]
        }
      ],
      "source": [
        "# 벡터의 뺄셈\n",
        "\n",
        "x=[2,3]\n",
        "y=[3,1]\n",
        "z=[i-j for i, j in zip(x,y)]\n",
        "print(z)"
      ]
    },
    {
      "cell_type": "code",
      "execution_count": null,
      "metadata": {
        "id": "EU3LuxJf8d49",
        "outputId": "9c51dc3e-fd6d-4899-bc69-413fb7ff1b74"
      },
      "outputs": [
        {
          "name": "stdout",
          "output_type": "stream",
          "text": [
            "[-1  2]\n"
          ]
        }
      ],
      "source": [
        "# NumPy 라이브러리 이용한 간단한 코드\n",
        "\n",
        "import numpy as np\n",
        "u = np.array(x)\n",
        "v = np.array(y)\n",
        "w=u-v\n",
        "print(w)"
      ]
    },
    {
      "cell_type": "code",
      "execution_count": null,
      "metadata": {
        "id": "lTY05C038d49",
        "outputId": "8abae0d6-cb2a-4779-8ba0-b66a349c7148"
      },
      "outputs": [
        {
          "name": "stdout",
          "output_type": "stream",
          "text": [
            "[ 2 11]\n"
          ]
        }
      ],
      "source": [
        "# 파이썬 문제풀이(1)\n",
        "\n",
        "import numpy as np\n",
        "x=[-7,15]\n",
        "y=[-9,4]\n",
        "u = np.array(x)\n",
        "v = np.array(y)\n",
        "w=u-v\n",
        "print(w)"
      ]
    },
    {
      "cell_type": "code",
      "execution_count": null,
      "metadata": {
        "id": "VLQIQAIS8d49",
        "outputId": "930291ca-2dd0-4e09-b167-91d05112e1d2"
      },
      "outputs": [
        {
          "name": "stdout",
          "output_type": "stream",
          "text": [
            "[-19  20]\n"
          ]
        }
      ],
      "source": [
        "# 파이썬 문제풀이(2)\n",
        "\n",
        "import numpy as np\n",
        "x=[-11,6]\n",
        "y=[8,-14]\n",
        "u = np.array(x)\n",
        "v = np.array(y)\n",
        "w=u-v\n",
        "print(w)"
      ]
    },
    {
      "cell_type": "code",
      "execution_count": null,
      "metadata": {
        "id": "JDiyqF5I8d49",
        "outputId": "93cd6ebb-e1fa-4aa7-97eb-b53464e92080"
      },
      "outputs": [
        {
          "name": "stdout",
          "output_type": "stream",
          "text": [
            "[ 8 35]\n"
          ]
        }
      ],
      "source": [
        "# 파이썬 문제풀이(3)\n",
        "\n",
        "import numpy as np\n",
        "x=[-11,14]\n",
        "y=[-19,-21]\n",
        "u = np.array(x)\n",
        "v = np.array(y)\n",
        "w=u-v\n",
        "print(w)"
      ]
    },
    {
      "cell_type": "code",
      "execution_count": null,
      "metadata": {
        "id": "KVbk8tfJ8d49",
        "outputId": "a8ffe61a-1c8c-40e2-8942-186fe1881164"
      },
      "outputs": [
        {
          "name": "stdout",
          "output_type": "stream",
          "text": [
            "[24, 32]\n"
          ]
        }
      ],
      "source": [
        "# 10.3.2 벡터의 곱셈\n",
        "# 벡터의 내적\n",
        "\n",
        "x=[3,4]\n",
        "c=8\n",
        "z=[c*I for I in x]\n",
        "print(z)"
      ]
    },
    {
      "cell_type": "code",
      "execution_count": null,
      "metadata": {
        "id": "Z8uHHUu78d49",
        "outputId": "13e62519-6ac1-4c86-d854-7a3c48bf3817"
      },
      "outputs": [
        {
          "name": "stdout",
          "output_type": "stream",
          "text": [
            "[24 32]\n"
          ]
        }
      ],
      "source": [
        "# NumPy 라이브러리 이용한 간단한 코드\n",
        "\n",
        "import numpy as np\n",
        "u = np.array([3,4])\n",
        "c = 8\n",
        "w=u*c\n",
        "print(w)"
      ]
    },
    {
      "cell_type": "code",
      "execution_count": null,
      "metadata": {
        "id": "7uaZHSso8d4-",
        "outputId": "b8083662-ccee-4ba6-c24f-84c74968c0b5"
      },
      "outputs": [
        {
          "name": "stdout",
          "output_type": "stream",
          "text": [
            "72\n"
          ]
        }
      ],
      "source": [
        "# 벡터의 내적(inner product)\n",
        "\n",
        "import numpy as np\n",
        "u = np.array([6,6])\n",
        "v = np.array([12,0])\n",
        "uv = np.dot(u, v)\n",
        "print(uv)"
      ]
    },
    {
      "cell_type": "code",
      "execution_count": null,
      "metadata": {
        "id": "JVzXrgaA8d4-",
        "outputId": "56febcdf-37a8-400b-9ed9-358ac28fbfa5"
      },
      "outputs": [
        {
          "ename": "ValueError",
          "evalue": "shapes (1,2,3) and (1,2,3) not aligned: 3 (dim 2) != 2 (dim 1)",
          "output_type": "error",
          "traceback": [
            "\u001b[1;31m---------------------------------------------------------------------------\u001b[0m",
            "\u001b[1;31mValueError\u001b[0m                                Traceback (most recent call last)",
            "\u001b[1;32m<ipython-input-32-a3fbbf2ce60f>\u001b[0m in \u001b[0;36m<module>\u001b[1;34m\u001b[0m\n\u001b[0;32m      9\u001b[0m \u001b[0mB5\u001b[0m \u001b[1;33m=\u001b[0m \u001b[0mnp\u001b[0m\u001b[1;33m.\u001b[0m\u001b[0marange\u001b[0m\u001b[1;33m(\u001b[0m\u001b[1;36m1\u001b[0m\u001b[1;33m*\u001b[0m\u001b[1;36m2\u001b[0m\u001b[1;33m*\u001b[0m\u001b[1;36m3\u001b[0m\u001b[1;33m)\u001b[0m\u001b[1;33m.\u001b[0m\u001b[0mreshape\u001b[0m\u001b[1;33m(\u001b[0m\u001b[1;33m(\u001b[0m\u001b[1;36m3\u001b[0m\u001b[1;33m,\u001b[0m\u001b[1;36m1\u001b[0m\u001b[1;33m,\u001b[0m\u001b[1;36m2\u001b[0m\u001b[1;33m)\u001b[0m\u001b[1;33m)\u001b[0m\u001b[1;33m\u001b[0m\u001b[1;33m\u001b[0m\u001b[0m\n\u001b[0;32m     10\u001b[0m \u001b[0mB6\u001b[0m \u001b[1;33m=\u001b[0m \u001b[0mnp\u001b[0m\u001b[1;33m.\u001b[0m\u001b[0marange\u001b[0m\u001b[1;33m(\u001b[0m\u001b[1;36m1\u001b[0m\u001b[1;33m*\u001b[0m\u001b[1;36m2\u001b[0m\u001b[1;33m*\u001b[0m\u001b[1;36m3\u001b[0m\u001b[1;33m)\u001b[0m\u001b[1;33m.\u001b[0m\u001b[0mreshape\u001b[0m\u001b[1;33m(\u001b[0m\u001b[1;33m(\u001b[0m\u001b[1;36m3\u001b[0m\u001b[1;33m,\u001b[0m\u001b[1;36m2\u001b[0m\u001b[1;33m,\u001b[0m\u001b[1;36m1\u001b[0m\u001b[1;33m)\u001b[0m\u001b[1;33m)\u001b[0m\u001b[1;33m\u001b[0m\u001b[1;33m\u001b[0m\u001b[0m\n\u001b[1;32m---> 11\u001b[1;33m \u001b[0mnp\u001b[0m\u001b[1;33m.\u001b[0m\u001b[0mdot\u001b[0m\u001b[1;33m(\u001b[0m\u001b[0mA\u001b[0m\u001b[1;33m,\u001b[0m\u001b[0mB1\u001b[0m\u001b[1;33m)\u001b[0m \u001b[1;31m# 결과는 오류가 맞습니다\u001b[0m\u001b[1;33m\u001b[0m\u001b[1;33m\u001b[0m\u001b[0m\n\u001b[0m",
            "\u001b[1;32m<__array_function__ internals>\u001b[0m in \u001b[0;36mdot\u001b[1;34m(*args, **kwargs)\u001b[0m\n",
            "\u001b[1;31mValueError\u001b[0m: shapes (1,2,3) and (1,2,3) not aligned: 3 (dim 2) != 2 (dim 1)"
          ]
        }
      ],
      "source": [
        "# numpy.dot()를 이용하여 벡터의 내적\n",
        "\n",
        "import numpy as np\n",
        "A = np.arange(1*2*3).reshape((1,2,3))\n",
        "B1 = np.arange(1*2*3).reshape((1,2,3))\n",
        "B2 = np.arange(1*2*3).reshape((1,3,2))\n",
        "B3 = np.arange(1*2*3).reshape((2,1,3))\n",
        "B4 = np.arange(1*2*3).reshape((2,3,1))\n",
        "B5 = np.arange(1*2*3).reshape((3,1,2))\n",
        "B6 = np.arange(1*2*3).reshape((3,2,1))\n",
        "np.dot(A,B1) # 결과는 오류가 맞습니다"
      ]
    },
    {
      "cell_type": "code",
      "execution_count": null,
      "metadata": {
        "id": "y_dSZrid8d4-",
        "outputId": "9134bd93-1849-4e44-95d5-d31aa44295e2"
      },
      "outputs": [
        {
          "data": {
            "text/plain": [
              "array([[[[10, 13]],\n",
              "\n",
              "        [[28, 40]]]])"
            ]
          },
          "execution_count": 33,
          "metadata": {},
          "output_type": "execute_result"
        }
      ],
      "source": [
        "np.dot(A,B2)"
      ]
    },
    {
      "cell_type": "code",
      "execution_count": null,
      "metadata": {
        "id": "n1Qt2vYZ8d4-",
        "outputId": "291797dc-7d57-4901-d5a4-b9b0172ecf92"
      },
      "outputs": [
        {
          "ename": "ValueError",
          "evalue": "shapes (1,2,3) and (2,1,3) not aligned: 3 (dim 2) != 1 (dim 1)",
          "output_type": "error",
          "traceback": [
            "\u001b[1;31m---------------------------------------------------------------------------\u001b[0m",
            "\u001b[1;31mValueError\u001b[0m                                Traceback (most recent call last)",
            "\u001b[1;32m<ipython-input-34-94f98aeef2d9>\u001b[0m in \u001b[0;36m<module>\u001b[1;34m\u001b[0m\n\u001b[1;32m----> 1\u001b[1;33m \u001b[0mnp\u001b[0m\u001b[1;33m.\u001b[0m\u001b[0mdot\u001b[0m\u001b[1;33m(\u001b[0m\u001b[0mA\u001b[0m\u001b[1;33m,\u001b[0m\u001b[0mB3\u001b[0m\u001b[1;33m)\u001b[0m \u001b[1;31m# 결과는 오류가 맞습니다\u001b[0m\u001b[1;33m\u001b[0m\u001b[1;33m\u001b[0m\u001b[0m\n\u001b[0m",
            "\u001b[1;32m<__array_function__ internals>\u001b[0m in \u001b[0;36mdot\u001b[1;34m(*args, **kwargs)\u001b[0m\n",
            "\u001b[1;31mValueError\u001b[0m: shapes (1,2,3) and (2,1,3) not aligned: 3 (dim 2) != 1 (dim 1)"
          ]
        }
      ],
      "source": [
        "np.dot(A,B3) # 결과는 오류가 맞습니다"
      ]
    },
    {
      "cell_type": "code",
      "execution_count": null,
      "metadata": {
        "id": "uT5oDxW-8d4-",
        "outputId": "4fc25ae1-066a-481e-dd24-c2678ce34af8"
      },
      "outputs": [
        {
          "data": {
            "text/plain": [
              "array([[[[ 5],\n",
              "         [14]],\n",
              "\n",
              "        [[14],\n",
              "         [50]]]])"
            ]
          },
          "execution_count": 35,
          "metadata": {},
          "output_type": "execute_result"
        }
      ],
      "source": [
        "np.dot(A,B4)"
      ]
    },
    {
      "cell_type": "code",
      "execution_count": null,
      "metadata": {
        "id": "2-hnRTLA8d4-",
        "outputId": "3aa5eb08-b03f-4ce1-d11b-d8902f946747"
      },
      "outputs": [
        {
          "ename": "ValueError",
          "evalue": "shapes (1,2,3) and (3,1,2) not aligned: 3 (dim 2) != 1 (dim 1)",
          "output_type": "error",
          "traceback": [
            "\u001b[1;31m---------------------------------------------------------------------------\u001b[0m",
            "\u001b[1;31mValueError\u001b[0m                                Traceback (most recent call last)",
            "\u001b[1;32m<ipython-input-36-96b485137ea0>\u001b[0m in \u001b[0;36m<module>\u001b[1;34m\u001b[0m\n\u001b[1;32m----> 1\u001b[1;33m \u001b[0mnp\u001b[0m\u001b[1;33m.\u001b[0m\u001b[0mdot\u001b[0m\u001b[1;33m(\u001b[0m\u001b[0mA\u001b[0m\u001b[1;33m,\u001b[0m\u001b[0mB5\u001b[0m\u001b[1;33m)\u001b[0m \u001b[1;31m# 결과는 오류가 맞습니다\u001b[0m\u001b[1;33m\u001b[0m\u001b[1;33m\u001b[0m\u001b[0m\n\u001b[0m",
            "\u001b[1;32m<__array_function__ internals>\u001b[0m in \u001b[0;36mdot\u001b[1;34m(*args, **kwargs)\u001b[0m\n",
            "\u001b[1;31mValueError\u001b[0m: shapes (1,2,3) and (3,1,2) not aligned: 3 (dim 2) != 1 (dim 1)"
          ]
        }
      ],
      "source": [
        "np.dot(A,B5) # 결과는 오류가 맞습니다"
      ]
    },
    {
      "cell_type": "code",
      "execution_count": null,
      "metadata": {
        "id": "2noEwD328d4_",
        "outputId": "5fabdb15-09ce-4fd8-926e-c3f48791b86a"
      },
      "outputs": [
        {
          "ename": "ValueError",
          "evalue": "shapes (1,2,3) and (3,2,1) not aligned: 3 (dim 2) != 2 (dim 1)",
          "output_type": "error",
          "traceback": [
            "\u001b[1;31m---------------------------------------------------------------------------\u001b[0m",
            "\u001b[1;31mValueError\u001b[0m                                Traceback (most recent call last)",
            "\u001b[1;32m<ipython-input-37-36bec492a8d6>\u001b[0m in \u001b[0;36m<module>\u001b[1;34m\u001b[0m\n\u001b[1;32m----> 1\u001b[1;33m \u001b[0mnp\u001b[0m\u001b[1;33m.\u001b[0m\u001b[0mdot\u001b[0m\u001b[1;33m(\u001b[0m\u001b[0mA\u001b[0m\u001b[1;33m,\u001b[0m\u001b[0mB6\u001b[0m\u001b[1;33m)\u001b[0m \u001b[1;31m# 결과는 오류가 맞습니다\u001b[0m\u001b[1;33m\u001b[0m\u001b[1;33m\u001b[0m\u001b[0m\n\u001b[0m",
            "\u001b[1;32m<__array_function__ internals>\u001b[0m in \u001b[0;36mdot\u001b[1;34m(*args, **kwargs)\u001b[0m\n",
            "\u001b[1;31mValueError\u001b[0m: shapes (1,2,3) and (3,2,1) not aligned: 3 (dim 2) != 2 (dim 1)"
          ]
        }
      ],
      "source": [
        "np.dot(A,B6) # 결과는 오류가 맞습니다"
      ]
    },
    {
      "cell_type": "code",
      "execution_count": null,
      "metadata": {
        "id": "WDmlXbtB8d4_",
        "outputId": "e2a91c8c-5802-4e6d-de58-faa340c2af86"
      },
      "outputs": [
        {
          "name": "stdout",
          "output_type": "stream",
          "text": [
            "-75\n"
          ]
        }
      ],
      "source": [
        "# 파이썬 문제풀이(1)\n",
        "\n",
        "import numpy as np\n",
        "u = np.array([3, -6])\n",
        "v = np.array([-7, 9])\n",
        "uv = np.dot(u, v)\n",
        "print(uv)"
      ]
    },
    {
      "cell_type": "code",
      "execution_count": null,
      "metadata": {
        "id": "nOGCwJzq8d4_",
        "outputId": "c6be3842-9b7c-42f2-e3c2-5afa95b9f9d8"
      },
      "outputs": [
        {
          "name": "stdout",
          "output_type": "stream",
          "text": [
            "11\n"
          ]
        }
      ],
      "source": [
        "# 파이썬 문제풀이(2)\n",
        "\n",
        "import numpy as np\n",
        "u = np.array([-3, 4, 7])\n",
        "v = np.array([-4, -9, 5])\n",
        "uv = np.dot(u, v)\n",
        "print(uv)"
      ]
    },
    {
      "cell_type": "code",
      "execution_count": null,
      "metadata": {
        "id": "Q2q4LxpF8d5H",
        "outputId": "de3eb208-0e4e-4216-ec94-5bad57da1a1a"
      },
      "outputs": [
        {
          "name": "stdout",
          "output_type": "stream",
          "text": [
            "194\n"
          ]
        }
      ],
      "source": [
        "# 파이썬 문제풀이(3)\n",
        "\n",
        "import numpy as np\n",
        "u = np.array([3, -11, 7])\n",
        "v = np.array([-4, -13, 9])\n",
        "uv = np.dot(u, v)\n",
        "print(uv)"
      ]
    },
    {
      "cell_type": "code",
      "execution_count": null,
      "metadata": {
        "id": "el9nUnHL8d5H",
        "outputId": "f329d737-8275-4fd0-dfdd-780286e2043d"
      },
      "outputs": [
        {
          "data": {
            "text/plain": [
              "[-2, 4, -2]"
            ]
          },
          "execution_count": 41,
          "metadata": {},
          "output_type": "execute_result"
        }
      ],
      "source": [
        "# 벡터의 외적\n",
        "a = (1, 3, 5)\n",
        "b = (2, 4, 6)\n",
        "\n",
        "# 벡터의 외적을 위한 수식을 함수로 구현\n",
        "def cross(a, b):\n",
        "    c = [a[1]*b[2] - a[2]*b[1],\n",
        "    a[2]*b[0] - a[0]*b[2],\n",
        "    a[0]*b[1] - a[1]*b[0]]\n",
        "    return c\n",
        "cross(a,b)"
      ]
    },
    {
      "cell_type": "code",
      "execution_count": null,
      "metadata": {
        "id": "V1TcFeGR8d5I",
        "outputId": "1c033aad-2cd0-4353-8b35-e54e5660bcc9"
      },
      "outputs": [
        {
          "name": "stdout",
          "output_type": "stream",
          "text": [
            "[-2  4 -2]\n"
          ]
        }
      ],
      "source": [
        "# Numpy 이용한 벡터 외적 계산\n",
        "import numpy as np\n",
        "print(np.cross(a,b))    # cross() 함수 이용한 결과\n"
      ]
    },
    {
      "cell_type": "code",
      "execution_count": null,
      "metadata": {
        "id": "Co2FXghZ8d5J",
        "outputId": "cfb994a1-cad4-477c-ca5f-afa64f62750d"
      },
      "outputs": [
        {
          "name": "stdout",
          "output_type": "stream",
          "text": [
            "[94 54 29]\n"
          ]
        }
      ],
      "source": [
        "# 파이썬 문제풀이(1)\n",
        "import numpy as np\n",
        "a = np.array([5, -13, 8])\n",
        "b = np.array([-2, 11, -14])\n",
        "print(np.cross(a,b))"
      ]
    },
    {
      "cell_type": "code",
      "execution_count": null,
      "metadata": {
        "id": "uAqMXkXf8d5J",
        "outputId": "2cdc6e72-059a-47ca-ac35-beb315c8c409"
      },
      "outputs": [
        {
          "name": "stdout",
          "output_type": "stream",
          "text": [
            "[-64 142  99]\n"
          ]
        }
      ],
      "source": [
        "# 파이썬 문제풀이(2)\n",
        "import numpy as np\n",
        "a = np.array([-7, 8, -16])\n",
        "b = np.array([-8, -5, 2])\n",
        "print(np.cross(a,b))"
      ]
    },
    {
      "cell_type": "code",
      "execution_count": null,
      "metadata": {
        "id": "eeUvX5fB8d5K",
        "outputId": "d41a66a4-cada-4cbf-e96a-8ccfa346c707"
      },
      "outputs": [
        {
          "name": "stdout",
          "output_type": "stream",
          "text": [
            "[1 2]\n"
          ]
        }
      ],
      "source": [
        "# 10.3.3 직교벡터\n",
        "# 벡터의 크기와 거리\n",
        "# 벡터의 크기\n",
        "\n",
        "# 벡터  = (1, 2)일 때,  의 길이를 구해 보자.\n",
        "import numpy as np\n",
        "a = np.array([1,2])\n",
        "print(a)"
      ]
    },
    {
      "cell_type": "code",
      "execution_count": null,
      "metadata": {
        "id": "EzReZ5QL8d5K",
        "outputId": "5ffb58a2-0962-4377-b90a-2754fef95e6f"
      },
      "outputs": [
        {
          "data": {
            "text/plain": [
              "2.23606797749979"
            ]
          },
          "execution_count": 46,
          "metadata": {},
          "output_type": "execute_result"
        }
      ],
      "source": [
        "np.linalg.norm(a) # a의 길이"
      ]
    },
    {
      "cell_type": "code",
      "execution_count": null,
      "metadata": {
        "id": "TSWdAXD68d5K",
        "outputId": "84475d46-8795-45d6-fa60-515f34e4f856"
      },
      "outputs": [
        {
          "data": {
            "text/plain": [
              "3.0"
            ]
          },
          "execution_count": 47,
          "metadata": {},
          "output_type": "execute_result"
        }
      ],
      "source": [
        "np.linalg.norm(a, ord=1) # L1 Norm 구하기"
      ]
    },
    {
      "cell_type": "code",
      "execution_count": null,
      "metadata": {
        "id": "VHJcx9kP8d5L",
        "outputId": "6dde30c8-35fa-4bd4-cd40-217cbe72ab7f"
      },
      "outputs": [
        {
          "data": {
            "text/plain": [
              "2.23606797749979"
            ]
          },
          "execution_count": 48,
          "metadata": {},
          "output_type": "execute_result"
        }
      ],
      "source": [
        "np.linalg.norm(a, ord=2) # L2 Norm 구하기"
      ]
    },
    {
      "cell_type": "code",
      "execution_count": null,
      "metadata": {
        "id": "rQCVqvea8d5L",
        "outputId": "f69aaba5-bab2-41b0-be9e-9d9fe4c23018"
      },
      "outputs": [
        {
          "data": {
            "text/plain": [
              "12.165525060596439"
            ]
          },
          "execution_count": 49,
          "metadata": {},
          "output_type": "execute_result"
        }
      ],
      "source": [
        "# 파이썬 문제풀이(1)\n",
        "\n",
        "import numpy as np\n",
        "a = np.array([-2,12])\n",
        "np.linalg.norm(a)"
      ]
    },
    {
      "cell_type": "code",
      "execution_count": null,
      "metadata": {
        "id": "8mQUZjfg8d5L",
        "outputId": "78e73bba-2875-43a7-ddbb-46e31c3a50b4"
      },
      "outputs": [
        {
          "data": {
            "text/plain": [
              "12.206555615733702"
            ]
          },
          "execution_count": 50,
          "metadata": {},
          "output_type": "execute_result"
        }
      ],
      "source": [
        "# 파이썬 문제풀이(2)\n",
        "\n",
        "import numpy as np\n",
        "a=np.array([5**0.5,12])\n",
        "np.linalg.norm(a)"
      ]
    },
    {
      "cell_type": "code",
      "execution_count": null,
      "metadata": {
        "id": "LtWmfuYq8d5L",
        "outputId": "2e8609c9-6f7f-4fcf-a4a0-f6bcc8ed46e8"
      },
      "outputs": [
        {
          "data": {
            "text/plain": [
              "17.26267650163207"
            ]
          },
          "execution_count": 51,
          "metadata": {},
          "output_type": "execute_result"
        }
      ],
      "source": [
        "# 파이썬 문제풀이(3)\n",
        "\n",
        "import numpy as np\n",
        "a=np.array([3,-15,8])\n",
        "np.linalg.norm(a)"
      ]
    },
    {
      "cell_type": "code",
      "execution_count": null,
      "metadata": {
        "id": "BpHaDcwt8d5L",
        "outputId": "2fe15fee-6a2a-4f60-d079-f1e1e4c79628"
      },
      "outputs": [
        {
          "data": {
            "text/plain": [
              "8.660254037844387"
            ]
          },
          "execution_count": 52,
          "metadata": {},
          "output_type": "execute_result"
        }
      ],
      "source": [
        "# 파이썬 문제풀이(4)\n",
        "\n",
        "import numpy as np\n",
        "a=np.array([-7,10**0.5,4])\n",
        "np.linalg.norm(a)"
      ]
    },
    {
      "cell_type": "code",
      "execution_count": null,
      "metadata": {
        "id": "x9mpwmI48d5L",
        "outputId": "6a585fe8-5185-4f02-dac6-5ab863ff05b2"
      },
      "outputs": [
        {
          "name": "stdout",
          "output_type": "stream",
          "text": [
            "Euclidean distance:  5.196152422706632\n"
          ]
        }
      ],
      "source": [
        "# 벡터의 거리/유사도\n",
        "# Python을 활용한 벡터의 거리계산(유클리드 거리)\n",
        "\n",
        "# scipy.spatia 모듈로부터 distance 함수 호출\n",
        "from scipy.spatial import distance\n",
        "\n",
        "# 두 점 P1과 P2 명시\n",
        "p1 = (1, 2, 3)\n",
        "p2 = (4, 5, 6)\n",
        "\n",
        "# P1과 P2 사이의 유클리드 거리 계산\n",
        "d = distance.euclidean(p1, p2)\n",
        "print(\"Euclidean distance: \",d)"
      ]
    },
    {
      "cell_type": "code",
      "execution_count": null,
      "metadata": {
        "id": "aZNMAZfs8d5M",
        "outputId": "9135e9f4-c7c1-4df1-f724-232c4c9d780f"
      },
      "outputs": [
        {
          "data": {
            "text/plain": [
              "9"
            ]
          },
          "execution_count": 54,
          "metadata": {},
          "output_type": "execute_result"
        }
      ],
      "source": [
        "# 맨해튼 거리(Manhattan distance)\n",
        "\n",
        "# math 함수 호출\n",
        "from math import*\n",
        "\n",
        "# 두 점 P1과 P2 정의\n",
        "p1 = (1, 2, 3)\n",
        "p2 = (4, 5, 6)\n",
        "\n",
        "# 맨해튼 거리를 계산하기 위한 사용자 정의 함수 생성\n",
        "def manhattan_distance(x,y):\n",
        "    return sum(abs(a-b) for a,b in zip(x,y))\n",
        "\n",
        "# P1과 P2 사이의 맨해튼 거리 계산\n",
        "manhattan_distance(p1,p2)"
      ]
    },
    {
      "cell_type": "code",
      "execution_count": null,
      "metadata": {
        "id": "sGzDiGoR8d5M",
        "outputId": "d1e305ca-8bf4-47da-c2d6-294e805d187a"
      },
      "outputs": [
        {
          "name": "stdout",
          "output_type": "stream",
          "text": [
            "0.5773502691896258\n",
            "0.8838834764831843\n",
            "0.8164965809277259\n"
          ]
        }
      ],
      "source": [
        "# 코사인 유사도(Cosine Similarity)\n",
        "\n",
        "from numpy import dot\n",
        "from numpy.linalg import norm\n",
        "import numpy as np\n",
        "\n",
        "def cos_sim(A, B):\n",
        "    return dot(A, B)/(norm(A)*norm(B))\n",
        "\n",
        "doc1=np.array([1,1,1,1,0])\n",
        "doc2=np.array([1,0,1,0,1])\n",
        "doc3=np.array([2,1,1,1,1])\n",
        "\n",
        "print(cos_sim(doc1, doc2)) #문서1과 문서2의 코사인 유사도\n",
        "print(cos_sim(doc1, doc3)) #문서1과 문서3의 코사인 유사도\n",
        "print(cos_sim(doc2, doc3)) #문서2과 문서3의 코사인 유사도"
      ]
    },
    {
      "cell_type": "code",
      "execution_count": null,
      "metadata": {
        "id": "k_Chz56x8d5M",
        "outputId": "d776fee4-4d41-403c-af80-6eee8691383a"
      },
      "outputs": [
        {
          "name": "stdout",
          "output_type": "stream",
          "text": [
            "[[ 1.  0.  0.  0.]\n",
            " [-2.  1.  0.  0.]\n",
            " [-3.  0.  1.  0.]\n",
            " [-4. -0. -0.  1.]]\n"
          ]
        }
      ],
      "source": [
        "# 11장 행렬변환\n",
        "# 11.2 역함수와 역변환\n",
        "# 11.2.2 역행렬\n",
        "\n",
        "import numpy as np\n",
        "A = np.matrix([[1, 0, 0, 0], [2, 1, 0, 0], [3, 0, 1, 0], [4, 0, 0, 1]])\n",
        "print(np.linalg.inv(A))"
      ]
    },
    {
      "cell_type": "code",
      "execution_count": null,
      "metadata": {
        "id": "Ejz4gUbl8d5N",
        "outputId": "9e6417e8-763f-4cc4-9b6a-20d829a34209"
      },
      "outputs": [
        {
          "name": "stdout",
          "output_type": "stream",
          "text": [
            "[[-2.   1. ]\n",
            " [ 1.5 -0.5]]\n"
          ]
        }
      ],
      "source": [
        "# 파이썬 문제풀이(1)\n",
        "\n",
        "import numpy as np\n",
        "A = np.matrix([[1,2],[3,4]])\n",
        "print(np.linalg.inv(A))"
      ]
    },
    {
      "cell_type": "code",
      "execution_count": null,
      "metadata": {
        "id": "QMYIsi3m8d5O",
        "outputId": "694718d0-d561-47b8-aeba-9dbac3878056"
      },
      "outputs": [
        {
          "ename": "LinAlgError",
          "evalue": "Singular matrix",
          "output_type": "error",
          "traceback": [
            "\u001b[1;31m---------------------------------------------------------------------------\u001b[0m",
            "\u001b[1;31mLinAlgError\u001b[0m                               Traceback (most recent call last)",
            "\u001b[1;32m<ipython-input-58-484cc664a1ff>\u001b[0m in \u001b[0;36m<module>\u001b[1;34m\u001b[0m\n\u001b[0;32m      3\u001b[0m \u001b[1;32mimport\u001b[0m \u001b[0mnumpy\u001b[0m \u001b[1;32mas\u001b[0m \u001b[0mnp\u001b[0m\u001b[1;33m\u001b[0m\u001b[1;33m\u001b[0m\u001b[0m\n\u001b[0;32m      4\u001b[0m \u001b[0mA\u001b[0m \u001b[1;33m=\u001b[0m \u001b[0mnp\u001b[0m\u001b[1;33m.\u001b[0m\u001b[0mmatrix\u001b[0m\u001b[1;33m(\u001b[0m\u001b[1;33m[\u001b[0m\u001b[1;33m[\u001b[0m\u001b[1;36m2\u001b[0m\u001b[1;33m,\u001b[0m\u001b[1;36m3\u001b[0m\u001b[1;33m]\u001b[0m\u001b[1;33m,\u001b[0m\u001b[1;33m[\u001b[0m\u001b[1;36m4\u001b[0m\u001b[1;33m,\u001b[0m\u001b[1;36m6\u001b[0m\u001b[1;33m]\u001b[0m\u001b[1;33m]\u001b[0m\u001b[1;33m)\u001b[0m\u001b[1;33m\u001b[0m\u001b[1;33m\u001b[0m\u001b[0m\n\u001b[1;32m----> 5\u001b[1;33m \u001b[0mprint\u001b[0m\u001b[1;33m(\u001b[0m\u001b[0mnp\u001b[0m\u001b[1;33m.\u001b[0m\u001b[0mlinalg\u001b[0m\u001b[1;33m.\u001b[0m\u001b[0minv\u001b[0m\u001b[1;33m(\u001b[0m\u001b[0mA\u001b[0m\u001b[1;33m)\u001b[0m\u001b[1;33m)\u001b[0m \u001b[1;31m# 결과는 오류가 맞습니다\u001b[0m\u001b[1;33m\u001b[0m\u001b[1;33m\u001b[0m\u001b[0m\n\u001b[0m",
            "\u001b[1;32m<__array_function__ internals>\u001b[0m in \u001b[0;36minv\u001b[1;34m(*args, **kwargs)\u001b[0m\n",
            "\u001b[1;32m~\\anaconda3\\lib\\site-packages\\numpy\\linalg\\linalg.py\u001b[0m in \u001b[0;36minv\u001b[1;34m(a)\u001b[0m\n\u001b[0;32m    545\u001b[0m     \u001b[0msignature\u001b[0m \u001b[1;33m=\u001b[0m \u001b[1;34m'D->D'\u001b[0m \u001b[1;32mif\u001b[0m \u001b[0misComplexType\u001b[0m\u001b[1;33m(\u001b[0m\u001b[0mt\u001b[0m\u001b[1;33m)\u001b[0m \u001b[1;32melse\u001b[0m \u001b[1;34m'd->d'\u001b[0m\u001b[1;33m\u001b[0m\u001b[1;33m\u001b[0m\u001b[0m\n\u001b[0;32m    546\u001b[0m     \u001b[0mextobj\u001b[0m \u001b[1;33m=\u001b[0m \u001b[0mget_linalg_error_extobj\u001b[0m\u001b[1;33m(\u001b[0m\u001b[0m_raise_linalgerror_singular\u001b[0m\u001b[1;33m)\u001b[0m\u001b[1;33m\u001b[0m\u001b[1;33m\u001b[0m\u001b[0m\n\u001b[1;32m--> 547\u001b[1;33m     \u001b[0mainv\u001b[0m \u001b[1;33m=\u001b[0m \u001b[0m_umath_linalg\u001b[0m\u001b[1;33m.\u001b[0m\u001b[0minv\u001b[0m\u001b[1;33m(\u001b[0m\u001b[0ma\u001b[0m\u001b[1;33m,\u001b[0m \u001b[0msignature\u001b[0m\u001b[1;33m=\u001b[0m\u001b[0msignature\u001b[0m\u001b[1;33m,\u001b[0m \u001b[0mextobj\u001b[0m\u001b[1;33m=\u001b[0m\u001b[0mextobj\u001b[0m\u001b[1;33m)\u001b[0m\u001b[1;33m\u001b[0m\u001b[1;33m\u001b[0m\u001b[0m\n\u001b[0m\u001b[0;32m    548\u001b[0m     \u001b[1;32mreturn\u001b[0m \u001b[0mwrap\u001b[0m\u001b[1;33m(\u001b[0m\u001b[0mainv\u001b[0m\u001b[1;33m.\u001b[0m\u001b[0mastype\u001b[0m\u001b[1;33m(\u001b[0m\u001b[0mresult_t\u001b[0m\u001b[1;33m,\u001b[0m \u001b[0mcopy\u001b[0m\u001b[1;33m=\u001b[0m\u001b[1;32mFalse\u001b[0m\u001b[1;33m)\u001b[0m\u001b[1;33m)\u001b[0m\u001b[1;33m\u001b[0m\u001b[1;33m\u001b[0m\u001b[0m\n\u001b[0;32m    549\u001b[0m \u001b[1;33m\u001b[0m\u001b[0m\n",
            "\u001b[1;32m~\\anaconda3\\lib\\site-packages\\numpy\\linalg\\linalg.py\u001b[0m in \u001b[0;36m_raise_linalgerror_singular\u001b[1;34m(err, flag)\u001b[0m\n\u001b[0;32m     95\u001b[0m \u001b[1;33m\u001b[0m\u001b[0m\n\u001b[0;32m     96\u001b[0m \u001b[1;32mdef\u001b[0m \u001b[0m_raise_linalgerror_singular\u001b[0m\u001b[1;33m(\u001b[0m\u001b[0merr\u001b[0m\u001b[1;33m,\u001b[0m \u001b[0mflag\u001b[0m\u001b[1;33m)\u001b[0m\u001b[1;33m:\u001b[0m\u001b[1;33m\u001b[0m\u001b[1;33m\u001b[0m\u001b[0m\n\u001b[1;32m---> 97\u001b[1;33m     \u001b[1;32mraise\u001b[0m \u001b[0mLinAlgError\u001b[0m\u001b[1;33m(\u001b[0m\u001b[1;34m\"Singular matrix\"\u001b[0m\u001b[1;33m)\u001b[0m\u001b[1;33m\u001b[0m\u001b[1;33m\u001b[0m\u001b[0m\n\u001b[0m\u001b[0;32m     98\u001b[0m \u001b[1;33m\u001b[0m\u001b[0m\n\u001b[0;32m     99\u001b[0m \u001b[1;32mdef\u001b[0m \u001b[0m_raise_linalgerror_nonposdef\u001b[0m\u001b[1;33m(\u001b[0m\u001b[0merr\u001b[0m\u001b[1;33m,\u001b[0m \u001b[0mflag\u001b[0m\u001b[1;33m)\u001b[0m\u001b[1;33m:\u001b[0m\u001b[1;33m\u001b[0m\u001b[1;33m\u001b[0m\u001b[0m\n",
            "\u001b[1;31mLinAlgError\u001b[0m: Singular matrix"
          ]
        }
      ],
      "source": [
        "# 파이썬 문제풀이(2)\n",
        "\n",
        "import numpy as np\n",
        "A = np.matrix([[2,3],[4,6]])\n",
        "print(np.linalg.inv(A)) # 결과는 오류가 맞습니다"
      ]
    },
    {
      "cell_type": "code",
      "execution_count": null,
      "metadata": {
        "id": "OdB4HTVm8d5O",
        "outputId": "d8a9fb8a-b5b0-4c99-8849-a9f320fc8855"
      },
      "outputs": [
        {
          "name": "stdout",
          "output_type": "stream",
          "text": [
            "[[ 0  1  2  3  4]\n",
            " [ 5  6  7  8  9]\n",
            " [10 11 12 13 14]]\n"
          ]
        }
      ],
      "source": [
        "# 11.3 전치행렬\n",
        "# 11.3.1 전치행렬이란\n",
        "\n",
        "import numpy as np\n",
        "a = np.arange(15).reshape(3, 5)\n",
        "print(a)"
      ]
    },
    {
      "cell_type": "code",
      "execution_count": null,
      "metadata": {
        "id": "unJiLCYZ8d5P",
        "outputId": "4e243346-cec2-4b63-9635-16c7f3d7d1b5"
      },
      "outputs": [
        {
          "data": {
            "text/plain": [
              "array([[ 0,  5, 10],\n",
              "       [ 1,  6, 11],\n",
              "       [ 2,  7, 12],\n",
              "       [ 3,  8, 13],\n",
              "       [ 4,  9, 14]])"
            ]
          },
          "execution_count": 60,
          "metadata": {},
          "output_type": "execute_result"
        }
      ],
      "source": [
        "np.transpose(a)"
      ]
    },
    {
      "cell_type": "code",
      "execution_count": null,
      "metadata": {
        "id": "x0XwGtO38d5P",
        "outputId": "8af056d9-d48c-4587-e717-4544ad76714e"
      },
      "outputs": [
        {
          "name": "stdout",
          "output_type": "stream",
          "text": [
            "[5.44948974 0.55051026]\n",
            "[[ 0.91209559  0.21927526]\n",
            " [-0.40997761  0.97566304]]\n"
          ]
        }
      ],
      "source": [
        "# 12장 상호좌표계\n",
        "# 12.1 고유값(eigenvalue), 고유벡터(eigenvector), 공유공간\n",
        "# 12.1.1 고유값과 고유벡터란\n",
        "\n",
        "import numpy as np\n",
        "a = np.array([[5,-1],[-2,1]])\n",
        "w, v = np.linalg.eig(a)\n",
        "\n",
        "print(w)\n",
        "print(v)"
      ]
    },
    {
      "cell_type": "code",
      "execution_count": null,
      "metadata": {
        "id": "qQLdGexg8d5P",
        "outputId": "2386adec-aeae-46c4-b531-3ed53187a132"
      },
      "outputs": [
        {
          "name": "stdout",
          "output_type": "stream",
          "text": [
            "[-2.  5.]\n",
            "[[-0.70710678 -0.6       ]\n",
            " [ 0.70710678 -0.8       ]]\n"
          ]
        }
      ],
      "source": [
        "# 파이썬 문제풀이\n",
        "import numpy as np\n",
        "a = np.array([[1,3],[4,2]])\n",
        "w, v = np.linalg.eig(a)\n",
        "print(w)\n",
        "print(v)"
      ]
    },
    {
      "cell_type": "code",
      "execution_count": null,
      "metadata": {
        "id": "HuO3LGZ-8d5Q"
      },
      "outputs": [],
      "source": []
    }
  ],
  "metadata": {
    "kernelspec": {
      "display_name": "Python 3",
      "language": "python",
      "name": "python3"
    },
    "language_info": {
      "codemirror_mode": {
        "name": "ipython",
        "version": 3
      },
      "file_extension": ".py",
      "mimetype": "text/x-python",
      "name": "python",
      "nbconvert_exporter": "python",
      "pygments_lexer": "ipython3",
      "version": "3.7.6"
    },
    "colab": {
      "provenance": []
    }
  },
  "nbformat": 4,
  "nbformat_minor": 0
}